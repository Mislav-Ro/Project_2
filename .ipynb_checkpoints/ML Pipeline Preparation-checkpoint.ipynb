{
 "cells": [
  {
   "cell_type": "markdown",
   "metadata": {},
   "source": [
    "# ML Pipeline Preparation\n",
    "Follow the instructions below to help you create your ML pipeline.\n",
    "### 1. Import libraries and load data from database.\n",
    "- Import Python libraries\n",
    "- Load dataset from database with [`read_sql_table`](https://pandas.pydata.org/pandas-docs/stable/generated/pandas.read_sql_table.html)\n",
    "- Define feature and target variables X and Y"
   ]
  },
  {
   "cell_type": "code",
   "execution_count": null,
   "metadata": {},
   "outputs": [
    {
     "name": "stderr",
     "output_type": "stream",
     "text": [
      "[nltk_data] Downloading package punkt to C:\\Users\\Mislav\n",
      "[nltk_data]     Rogulj\\AppData\\Roaming\\nltk_data...\n"
     ]
    }
   ],
   "source": [
    "# import libraries\n",
    "import pandas as pd\n",
    "import numpy as np\n",
    "from sqlalchemy import create_engine\n",
    "\n",
    "from nltk.tokenize import word_tokenize\n",
    "from nltk.stem import WordNetLemmatizer\n",
    "from sklearn.pipeline import Pipeline\n",
    "from sklearn.feature_extraction.text import CountVectorizer, TfidfTransformer\n",
    "from sklearn.ensemble import RandomForestClassifier\n",
    "from sklearn.multioutput import MultiOutputClassifier\n",
    "from sklearn.model_selection import train_test_split\n",
    "\n",
    "import nltk\n",
    "nltk.download(['punkt', 'wordnet'])"
   ]
  },
  {
   "cell_type": "code",
   "execution_count": 89,
   "metadata": {},
   "outputs": [],
   "source": [
    "from sklearn.metrics import confusion_matrix, classification_report"
   ]
  },
  {
   "cell_type": "code",
   "execution_count": 100,
   "metadata": {},
   "outputs": [],
   "source": [
    "# load data from database\n",
    "engine = create_engine('sqlite:///MainTable.db')\n",
    "df = pd.read_sql_table(\"info\", engine)\n",
    "X = df[\"message\"].copy() # Maybe also add genre\n",
    "Y = df.copy()\n",
    "Y.drop(columns=[\"id\", \"message\", \"original\", \"genre\"], inplace=True)"
   ]
  },
  {
   "cell_type": "markdown",
   "metadata": {},
   "source": [
    "### 2. Write a tokenization function to process your text data"
   ]
  },
  {
   "cell_type": "code",
   "execution_count": 101,
   "metadata": {},
   "outputs": [],
   "source": [
    "def tokenize(text):\n",
    "    \n",
    "    tokens = word_tokenize(text)\n",
    "    lemmatizer = WordNetLemmatizer()\n",
    "    \n",
    "    clean_tokens = []\n",
    "    for token in tokens:\n",
    "        tmp = lemmatizer.lemmatize(token).lower().strip()\n",
    "        clean_tokens.append(tmp)\n",
    "        \n",
    "    return clean_tokens"
   ]
  },
  {
   "cell_type": "markdown",
   "metadata": {},
   "source": [
    "### 3. Build a machine learning pipeline\n",
    "This machine pipeline should take in the `message` column as input and output classification results on the other 36 categories in the dataset. You may find the [MultiOutputClassifier](http://scikit-learn.org/stable/modules/generated/sklearn.multioutput.MultiOutputClassifier.html) helpful for predicting multiple target variables."
   ]
  },
  {
   "cell_type": "code",
   "execution_count": 102,
   "metadata": {},
   "outputs": [],
   "source": [
    "pipeline = Pipeline([\n",
    "    (\"vect\", CountVectorizer(tokenizer=tokenize)),\n",
    "    (\"tfidf\", TfidfTransformer()),\n",
    "    (\"clf\", MultiOutputClassifier(RandomForestClassifier()))\n",
    "])"
   ]
  },
  {
   "cell_type": "markdown",
   "metadata": {},
   "source": [
    "### 4. Train pipeline\n",
    "- Split data into train and test sets\n",
    "- Train pipeline"
   ]
  },
  {
   "cell_type": "code",
   "execution_count": 103,
   "metadata": {},
   "outputs": [],
   "source": [
    "X_train, X_test, y_train, y_test = train_test_split(X,Y)\n",
    "pipeline.fit(X_train, y_train)\n",
    "y_pred = pipeline.predict(X_test)"
   ]
  },
  {
   "cell_type": "markdown",
   "metadata": {},
   "source": [
    "### 5. Test your model\n",
    "Report the f1 score, precision and recall for each output category of the dataset. You can do this by iterating through the columns and calling sklearn's `classification_report` on each."
   ]
  },
  {
   "cell_type": "code",
   "execution_count": 106,
   "metadata": {},
   "outputs": [
    {
     "ename": "ValueError",
     "evalue": "Unknown label type: (       related  request  offer  aid_related  medical_help  medical_products  \\\n4331         1        1      0            1             0                 0   \n25814        0        0      0            0             0                 0   \n22097        0        0      0            0             0                 0   \n8580         1        0      0            0             0                 0   \n22702        0        0      0            0             0                 0   \n2716         1        0      0            1             0                 0   \n3366         0        0      0            0             0                 0   \n5970         0        0      0            0             0                 0   \n3825         0        0      0            0             0                 0   \n24307        1        0      0            1             0                 0   \n4296         1        1      0            1             0                 0   \n25351        1        0      0            0             0                 0   \n18426        1        0      0            1             0                 0   \n15461        0        0      0            0             0                 0   \n19906        1        0      0            0             0                 0   \n13192        1        0      0            0             0                 0   \n1918         0        0      0            0             0                 0   \n1539         0        0      0            0             0                 0   \n11883        0        0      0            0             0                 0   \n10739        1        0      0            1             0                 0   \n18778        1        0      0            1             0                 0   \n9215         0        0      0            0             0                 0   \n20031        1        0      0            0             0                 0   \n2497         0        0      0            0             0                 0   \n16626        1        0      0            1             1                 0   \n6478         1        1      0            1             0                 0   \n21883        1        0      0            0             0                 0   \n18245        1        0      0            0             0                 0   \n741          1        1      0            0             0                 0   \n7576         0        0      0            0             0                 0   \n...        ...      ...    ...          ...           ...               ...   \n13124        0        0      0            0             0                 0   \n14223        0        0      0            0             0                 0   \n11442        1        1      0            1             0                 0   \n15319        1        0      0            1             0                 0   \n18177        1        0      0            0             0                 0   \n7941         0        0      0            0             0                 0   \n22108        0        0      0            0             0                 0   \n862          1        1      0            1             0                 0   \n21785        1        0      0            1             1                 1   \n12154        0        0      0            0             0                 0   \n12208        2        0      0            0             0                 0   \n10638        1        0      0            1             0                 1   \n3438         1        1      0            1             0                 0   \n24874        1        0      0            1             1                 0   \n22076        1        0      0            0             0                 0   \n12665        1        0      0            0             0                 0   \n10462        1        0      0            1             0                 0   \n16235        1        0      0            0             0                 0   \n14437        0        0      0            0             0                 0   \n3861         1        0      0            0             0                 0   \n10992        1        0      0            1             0                 0   \n15868        1        0      0            0             0                 0   \n3701         1        1      0            1             0                 0   \n22171        1        0      0            1             0                 0   \n743          1        1      0            1             0                 0   \n635          1        1      0            1             0                 0   \n4864         0        0      0            0             0                 0   \n2575         0        0      0            0             0                 0   \n6621         0        0      0            0             0                 0   \n2475         1        1      0            1             0                 0   \n\n       search_and_rescue  security  military  child_alone      ...        \\\n4331                   0         0         0            0      ...         \n25814                  0         0         0            0      ...         \n22097                  0         0         0            0      ...         \n8580                   0         0         0            0      ...         \n22702                  0         0         0            0      ...         \n2716                   0         0         0            0      ...         \n3366                   0         0         0            0      ...         \n5970                   0         0         0            0      ...         \n3825                   0         0         0            0      ...         \n24307                  0         0         0            0      ...         \n4296                   0         0         0            0      ...         \n25351                  0         0         0            0      ...         \n18426                  0         0         1            0      ...         \n15461                  0         0         0            0      ...         \n19906                  0         0         0            0      ...         \n13192                  0         0         0            0      ...         \n1918                   0         0         0            0      ...         \n1539                   0         0         0            0      ...         \n11883                  0         0         0            0      ...         \n10739                  0         0         0            0      ...         \n18778                  0         0         1            0      ...         \n9215                   0         0         0            0      ...         \n20031                  0         0         0            0      ...         \n2497                   0         0         0            0      ...         \n16626                  0         0         0            0      ...         \n6478                   0         0         0            0      ...         \n21883                  0         0         0            0      ...         \n18245                  0         0         0            0      ...         \n741                    0         0         0            0      ...         \n7576                   0         0         0            0      ...         \n...                  ...       ...       ...          ...      ...         \n13124                  0         0         0            0      ...         \n14223                  0         0         0            0      ...         \n11442                  0         1         0            0      ...         \n15319                  1         0         0            0      ...         \n18177                  0         0         0            0      ...         \n7941                   0         0         0            0      ...         \n22108                  0         0         0            0      ...         \n862                    0         0         0            0      ...         \n21785                  0         0         0            0      ...         \n12154                  0         0         0            0      ...         \n12208                  0         0         0            0      ...         \n10638                  0         0         0            0      ...         \n3438                   0         1         1            0      ...         \n24874                  0         0         0            0      ...         \n22076                  0         0         0            0      ...         \n12665                  0         0         0            0      ...         \n10462                  0         0         0            0      ...         \n16235                  0         0         0            0      ...         \n14437                  0         0         0            0      ...         \n3861                   0         0         0            0      ...         \n10992                  0         0         0            0      ...         \n15868                  0         0         0            0      ...         \n3701                   0         0         0            0      ...         \n22171                  0         0         0            0      ...         \n743                    0         0         0            0      ...         \n635                    0         0         0            0      ...         \n4864                   0         0         0            0      ...         \n2575                   0         0         0            0      ...         \n6621                   0         0         0            0      ...         \n2475                   1         0         0            0      ...         \n\n       aid_centers  other_infrastructure  weather_related  floods  storm  \\\n4331             0                     1                1       0      0   \n25814            0                     0                0       0      0   \n22097            0                     0                0       0      0   \n8580             0                     0                0       0      0   \n22702            0                     0                0       0      0   \n2716             0                     0                0       0      0   \n3366             0                     0                0       0      0   \n5970             0                     0                0       0      0   \n3825             0                     0                0       0      0   \n24307            0                     0                1       1      0   \n4296             0                     0                0       0      0   \n25351            0                     0                0       0      0   \n18426            0                     0                0       0      0   \n15461            0                     0                0       0      0   \n19906            0                     0                0       0      0   \n13192            0                     0                1       1      0   \n1918             0                     0                0       0      0   \n1539             0                     0                0       0      0   \n11883            0                     0                0       0      0   \n10739            0                     0                0       0      0   \n18778            0                     0                0       0      0   \n9215             0                     0                0       0      0   \n20031            0                     0                1       0      1   \n2497             0                     0                0       0      0   \n16626            1                     0                1       1      1   \n6478             0                     0                0       0      0   \n21883            0                     0                0       0      0   \n18245            0                     0                1       0      0   \n741              0                     0                0       0      0   \n7576             0                     0                0       0      0   \n...            ...                   ...              ...     ...    ...   \n13124            0                     0                0       0      0   \n14223            0                     0                0       0      0   \n11442            0                     0                0       0      0   \n15319            0                     0                0       0      0   \n18177            0                     0                0       0      0   \n7941             0                     0                0       0      0   \n22108            0                     0                0       0      0   \n862              0                     0                1       0      0   \n21785            0                     0                0       0      0   \n12154            0                     0                0       0      0   \n12208            0                     0                0       0      0   \n10638            0                     0                0       0      0   \n3438             0                     0                0       0      0   \n24874            0                     0                0       0      0   \n22076            0                     0                0       0      0   \n12665            0                     1                1       0      1   \n10462            0                     0                0       0      0   \n16235            0                     0                0       0      0   \n14437            0                     0                0       0      0   \n3861             0                     0                0       0      0   \n10992            0                     0                0       0      0   \n15868            0                     1                1       0      1   \n3701             0                     0                0       0      0   \n22171            0                     0                1       0      1   \n743              0                     0                0       0      0   \n635              0                     0                0       0      0   \n4864             0                     0                0       0      0   \n2575             0                     0                0       0      0   \n6621             0                     0                0       0      0   \n2475             0                     0                0       0      0   \n\n       fire  earthquake  cold  other_weather  direct_report  \n4331      0           1     0              0              0  \n25814     0           0     0              0              0  \n22097     0           0     0              0              0  \n8580      0           0     0              0              0  \n22702     0           0     0              0              0  \n2716      0           0     0              0              1  \n3366      0           0     0              0              0  \n5970      0           0     0              0              0  \n3825      0           0     0              0              0  \n24307     0           0     0              0              0  \n4296      0           0     0              0              1  \n25351     0           0     0              0              0  \n18426     0           0     0              0              0  \n15461     0           0     0              0              0  \n19906     0           0     0              0              0  \n13192     0           0     0              0              0  \n1918      0           0     0              0              0  \n1539      0           0     0              0              0  \n11883     0           0     0              0              0  \n10739     0           0     0              0              0  \n18778     0           0     0              0              0  \n9215      0           0     0              0              0  \n20031     0           0     0              0              1  \n2497      0           0     0              0              0  \n16626     0           0     0              1              0  \n6478      0           0     0              0              1  \n21883     0           0     0              0              0  \n18245     0           1     0              0              0  \n741       0           0     0              0              1  \n7576      0           0     0              0              0  \n...     ...         ...   ...            ...            ...  \n13124     0           0     0              0              0  \n14223     0           0     0              0              0  \n11442     0           0     0              0              0  \n15319     0           0     0              0              0  \n18177     0           0     0              0              0  \n7941      0           0     0              0              0  \n22108     0           0     0              0              0  \n862       0           1     0              0              1  \n21785     0           0     0              0              0  \n12154     0           0     0              0              0  \n12208     0           0     0              0              0  \n10638     0           0     0              0              0  \n3438      0           0     0              0              1  \n24874     0           0     0              0              0  \n22076     0           0     0              0              0  \n12665     0           0     0              0              0  \n10462     0           0     0              0              0  \n16235     0           0     0              0              0  \n14437     0           0     0              0              0  \n3861      0           0     0              0              0  \n10992     0           0     0              0              0  \n15868     0           0     0              0              0  \n3701      0           0     0              0              1  \n22171     0           0     0              0              0  \n743       0           0     0              0              1  \n635       0           0     0              0              1  \n4864      0           0     0              0              0  \n2575      0           0     0              0              0  \n6621      0           0     0              0              0  \n2475      0           0     0              0              1  \n\n[6554 rows x 36 columns], array([[1, 0, 0, ..., 0, 0, 0],\n       [1, 0, 0, ..., 0, 0, 0],\n       [1, 0, 0, ..., 0, 0, 0],\n       ..., \n       [1, 0, 0, ..., 0, 0, 0],\n       [1, 0, 0, ..., 0, 0, 0],\n       [1, 0, 0, ..., 0, 0, 0]]))",
     "output_type": "error",
     "traceback": [
      "\u001b[0;31m---------------------------------------------------------------------------\u001b[0m",
      "\u001b[0;31mValueError\u001b[0m                                Traceback (most recent call last)",
      "\u001b[0;32m<ipython-input-106-b0a3c3d7aec4>\u001b[0m in \u001b[0;36m<module>\u001b[0;34m()\u001b[0m\n\u001b[0;32m----> 1\u001b[0;31m \u001b[0mprint\u001b[0m\u001b[0;34m(\u001b[0m\u001b[0mclassification_report\u001b[0m\u001b[0;34m(\u001b[0m\u001b[0my_test\u001b[0m\u001b[0;34m,\u001b[0m \u001b[0my_pred\u001b[0m\u001b[0;34m,\u001b[0m\u001b[0mtarget_names\u001b[0m\u001b[0;34m=\u001b[0m\u001b[0my_test\u001b[0m\u001b[0;34m.\u001b[0m\u001b[0mkeys\u001b[0m\u001b[0;34m(\u001b[0m\u001b[0;34m)\u001b[0m\u001b[0;34m)\u001b[0m\u001b[0;34m)\u001b[0m\u001b[0;34m\u001b[0m\u001b[0m\n\u001b[0m",
      "\u001b[0;32m/opt/conda/lib/python3.6/site-packages/sklearn/metrics/classification.py\u001b[0m in \u001b[0;36mclassification_report\u001b[0;34m(y_true, y_pred, labels, target_names, sample_weight, digits)\u001b[0m\n\u001b[1;32m   1419\u001b[0m \u001b[0;34m\u001b[0m\u001b[0m\n\u001b[1;32m   1420\u001b[0m     \u001b[0;32mif\u001b[0m \u001b[0mlabels\u001b[0m \u001b[0;32mis\u001b[0m \u001b[0;32mNone\u001b[0m\u001b[0;34m:\u001b[0m\u001b[0;34m\u001b[0m\u001b[0m\n\u001b[0;32m-> 1421\u001b[0;31m         \u001b[0mlabels\u001b[0m \u001b[0;34m=\u001b[0m \u001b[0munique_labels\u001b[0m\u001b[0;34m(\u001b[0m\u001b[0my_true\u001b[0m\u001b[0;34m,\u001b[0m \u001b[0my_pred\u001b[0m\u001b[0;34m)\u001b[0m\u001b[0;34m\u001b[0m\u001b[0m\n\u001b[0m\u001b[1;32m   1422\u001b[0m     \u001b[0;32melse\u001b[0m\u001b[0;34m:\u001b[0m\u001b[0;34m\u001b[0m\u001b[0m\n\u001b[1;32m   1423\u001b[0m         \u001b[0mlabels\u001b[0m \u001b[0;34m=\u001b[0m \u001b[0mnp\u001b[0m\u001b[0;34m.\u001b[0m\u001b[0masarray\u001b[0m\u001b[0;34m(\u001b[0m\u001b[0mlabels\u001b[0m\u001b[0;34m)\u001b[0m\u001b[0;34m\u001b[0m\u001b[0m\n",
      "\u001b[0;32m/opt/conda/lib/python3.6/site-packages/sklearn/utils/multiclass.py\u001b[0m in \u001b[0;36munique_labels\u001b[0;34m(*ys)\u001b[0m\n\u001b[1;32m     95\u001b[0m     \u001b[0m_unique_labels\u001b[0m \u001b[0;34m=\u001b[0m \u001b[0m_FN_UNIQUE_LABELS\u001b[0m\u001b[0;34m.\u001b[0m\u001b[0mget\u001b[0m\u001b[0;34m(\u001b[0m\u001b[0mlabel_type\u001b[0m\u001b[0;34m,\u001b[0m \u001b[0;32mNone\u001b[0m\u001b[0;34m)\u001b[0m\u001b[0;34m\u001b[0m\u001b[0m\n\u001b[1;32m     96\u001b[0m     \u001b[0;32mif\u001b[0m \u001b[0;32mnot\u001b[0m \u001b[0m_unique_labels\u001b[0m\u001b[0;34m:\u001b[0m\u001b[0;34m\u001b[0m\u001b[0m\n\u001b[0;32m---> 97\u001b[0;31m         \u001b[0;32mraise\u001b[0m \u001b[0mValueError\u001b[0m\u001b[0;34m(\u001b[0m\u001b[0;34m\"Unknown label type: %s\"\u001b[0m \u001b[0;34m%\u001b[0m \u001b[0mrepr\u001b[0m\u001b[0;34m(\u001b[0m\u001b[0mys\u001b[0m\u001b[0;34m)\u001b[0m\u001b[0;34m)\u001b[0m\u001b[0;34m\u001b[0m\u001b[0m\n\u001b[0m\u001b[1;32m     98\u001b[0m \u001b[0;34m\u001b[0m\u001b[0m\n\u001b[1;32m     99\u001b[0m     \u001b[0mys_labels\u001b[0m \u001b[0;34m=\u001b[0m \u001b[0mset\u001b[0m\u001b[0;34m(\u001b[0m\u001b[0mchain\u001b[0m\u001b[0;34m.\u001b[0m\u001b[0mfrom_iterable\u001b[0m\u001b[0;34m(\u001b[0m\u001b[0m_unique_labels\u001b[0m\u001b[0;34m(\u001b[0m\u001b[0my\u001b[0m\u001b[0;34m)\u001b[0m \u001b[0;32mfor\u001b[0m \u001b[0my\u001b[0m \u001b[0;32min\u001b[0m \u001b[0mys\u001b[0m\u001b[0;34m)\u001b[0m\u001b[0;34m)\u001b[0m\u001b[0;34m\u001b[0m\u001b[0m\n",
      "\u001b[0;31mValueError\u001b[0m: Unknown label type: (       related  request  offer  aid_related  medical_help  medical_products  \\\n4331         1        1      0            1             0                 0   \n25814        0        0      0            0             0                 0   \n22097        0        0      0            0             0                 0   \n8580         1        0      0            0             0                 0   \n22702        0        0      0            0             0                 0   \n2716         1        0      0            1             0                 0   \n3366         0        0      0            0             0                 0   \n5970         0        0      0            0             0                 0   \n3825         0        0      0            0             0                 0   \n24307        1        0      0            1             0                 0   \n4296         1        1      0            1             0                 0   \n25351        1        0      0            0             0                 0   \n18426        1        0      0            1             0                 0   \n15461        0        0      0            0             0                 0   \n19906        1        0      0            0             0                 0   \n13192        1        0      0            0             0                 0   \n1918         0        0      0            0             0                 0   \n1539         0        0      0            0             0                 0   \n11883        0        0      0            0             0                 0   \n10739        1        0      0            1             0                 0   \n18778        1        0      0            1             0                 0   \n9215         0        0      0            0             0                 0   \n20031        1        0      0            0             0                 0   \n2497         0        0      0            0             0                 0   \n16626        1        0      0            1             1                 0   \n6478         1        1      0            1             0                 0   \n21883        1        0      0            0             0                 0   \n18245        1        0      0            0             0                 0   \n741          1        1      0            0             0                 0   \n7576         0        0      0            0             0                 0   \n...        ...      ...    ...          ...           ...               ...   \n13124        0        0      0            0             0                 0   \n14223        0        0      0            0             0                 0   \n11442        1        1      0            1             0                 0   \n15319        1        0      0            1             0                 0   \n18177        1        0      0            0             0                 0   \n7941         0        0      0            0             0                 0   \n22108        0        0      0            0             0                 0   \n862          1        1      0            1             0                 0   \n21785        1        0      0            1             1                 1   \n12154        0        0      0            0             0                 0   \n12208        2        0      0            0             0                 0   \n10638        1        0      0            1             0                 1   \n3438         1        1      0            1             0                 0   \n24874        1        0      0            1             1                 0   \n22076        1        0      0            0             0                 0   \n12665        1        0      0            0             0                 0   \n10462        1        0      0            1             0                 0   \n16235        1        0      0            0             0                 0   \n14437        0        0      0            0             0                 0   \n3861         1        0      0            0             0                 0   \n10992        1        0      0            1             0                 0   \n15868        1        0      0            0             0                 0   \n3701         1        1      0            1             0                 0   \n22171        1        0      0            1             0                 0   \n743          1        1      0            1             0                 0   \n635          1        1      0            1             0                 0   \n4864         0        0      0            0             0                 0   \n2575         0        0      0            0             0                 0   \n6621         0        0      0            0             0                 0   \n2475         1        1      0            1             0                 0   \n\n       search_and_rescue  security  military  child_alone      ...        \\\n4331                   0         0         0            0      ...         \n25814                  0         0         0            0      ...         \n22097                  0         0         0            0      ...         \n8580                   0         0         0            0      ...         \n22702                  0         0         0            0      ...         \n2716                   0         0         0            0      ...         \n3366                   0         0         0            0      ...         \n5970                   0         0         0            0      ...         \n3825                   0         0         0            0      ...         \n24307                  0         0         0            0      ...         \n4296                   0         0         0            0      ...         \n25351                  0         0         0            0      ...         \n18426                  0         0         1            0      ...         \n15461                  0         0         0            0      ...         \n19906                  0         0         0            0      ...         \n13192                  0         0         0            0      ...         \n1918                   0         0         0            0      ...         \n1539                   0         0         0            0      ...         \n11883                  0         0         0            0      ...         \n10739                  0         0         0            0      ...         \n18778                  0         0         1            0      ...         \n9215                   0         0         0            0      ...         \n20031                  0         0         0            0      ...         \n2497                   0         0         0            0      ...         \n16626                  0         0         0            0      ...         \n6478                   0         0         0            0      ...         \n21883                  0         0         0            0      ...         \n18245                  0         0         0            0      ...         \n741                    0         0         0            0      ...         \n7576                   0         0         0            0      ...         \n...                  ...       ...       ...          ...      ...         \n13124                  0         0         0            0      ...         \n14223                  0         0         0            0      ...         \n11442                  0         1         0            0      ...         \n15319                  1         0         0            0      ...         \n18177                  0         0         0            0      ...         \n7941                   0         0         0            0      ...         \n22108                  0         0         0            0      ...         \n862                    0         0         0            0      ...         \n21785                  0         0         0            0      ...         \n12154                  0         0         0            0      ...         \n12208                  0         0         0            0      ...         \n10638                  0         0         0            0      ...         \n3438                   0         1         1            0      ...         \n24874                  0         0         0            0      ...         \n22076                  0         0         0            0      ...         \n12665                  0         0         0            0      ...         \n10462                  0         0         0            0      ...         \n16235                  0         0         0            0      ...         \n14437                  0         0         0            0      ...         \n3861                   0         0         0            0      ...         \n10992                  0         0         0            0      ...         \n15868                  0         0         0            0      ...         \n3701                   0         0         0            0      ...         \n22171                  0         0         0            0      ...         \n743                    0         0         0            0      ...         \n635                    0         0         0            0      ...         \n4864                   0         0         0            0      ...         \n2575                   0         0         0            0      ...         \n6621                   0         0         0            0      ...         \n2475                   1         0         0            0      ...         \n\n       aid_centers  other_infrastructure  weather_related  floods  storm  \\\n4331             0                     1                1       0      0   \n25814            0                     0                0       0      0   \n22097            0                     0                0       0      0   \n8580             0                     0                0       0      0   \n22702            0                     0                0       0      0   \n2716             0                     0                0       0      0   \n3366             0                     0                0       0      0   \n5970             0                     0                0       0      0   \n3825             0                     0                0       0      0   \n24307            0                     0                1       1      0   \n4296             0                     0                0       0      0   \n25351            0                     0                0       0      0   \n18426            0                     0                0       0      0   \n15461            0                     0                0       0      0   \n19906            0                     0                0       0      0   \n13192            0                     0                1       1      0   \n1918             0                     0                0       0      0   \n1539             0                     0                0       0      0   \n11883            0                     0                0       0      0   \n10739            0                     0                0       0      0   \n18778            0                     0                0       0      0   \n9215             0                     0                0       0      0   \n20031            0                     0                1       0      1   \n2497             0                     0                0       0      0   \n16626            1                     0                1       1      1   \n6478             0                     0                0       0      0   \n21883            0                     0                0       0      0   \n18245            0                     0                1       0      0   \n741              0                     0                0       0      0   \n7576             0                     0                0       0      0   \n...            ...                   ...              ...     ...    ...   \n13124            0                     0                0       0      0   \n14223            0                     0                0       0      0   \n11442            0                     0                0       0      0   \n15319            0                     0                0       0      0   \n18177            0                     0                0       0      0   \n7941             0                     0                0       0      0   \n22108            0                     0                0       0      0   \n862              0                     0                1       0      0   \n21785            0                     0                0       0      0   \n12154            0                     0                0       0      0   \n12208            0                     0                0       0      0   \n10638            0                     0                0       0      0   \n3438             0                     0                0       0      0   \n24874            0                     0                0       0      0   \n22076            0                     0                0       0      0   \n12665            0                     1                1       0      1   \n10462            0                     0                0       0      0   \n16235            0                     0                0       0      0   \n14437            0                     0                0       0      0   \n3861             0                     0                0       0      0   \n10992            0                     0                0       0      0   \n15868            0                     1                1       0      1   \n3701             0                     0                0       0      0   \n22171            0                     0                1       0      1   \n743              0                     0                0       0      0   \n635              0                     0                0       0      0   \n4864             0                     0                0       0      0   \n2575             0                     0                0       0      0   \n6621             0                     0                0       0      0   \n2475             0                     0                0       0      0   \n\n       fire  earthquake  cold  other_weather  direct_report  \n4331      0           1     0              0              0  \n25814     0           0     0              0              0  \n22097     0           0     0              0              0  \n8580      0           0     0              0              0  \n22702     0           0     0              0              0  \n2716      0           0     0              0              1  \n3366      0           0     0              0              0  \n5970      0           0     0              0              0  \n3825      0           0     0              0              0  \n24307     0           0     0              0              0  \n4296      0           0     0              0              1  \n25351     0           0     0              0              0  \n18426     0           0     0              0              0  \n15461     0           0     0              0              0  \n19906     0           0     0              0              0  \n13192     0           0     0              0              0  \n1918      0           0     0              0              0  \n1539      0           0     0              0              0  \n11883     0           0     0              0              0  \n10739     0           0     0              0              0  \n18778     0           0     0              0              0  \n9215      0           0     0              0              0  \n20031     0           0     0              0              1  \n2497      0           0     0              0              0  \n16626     0           0     0              1              0  \n6478      0           0     0              0              1  \n21883     0           0     0              0              0  \n18245     0           1     0              0              0  \n741       0           0     0              0              1  \n7576      0           0     0              0              0  \n...     ...         ...   ...            ...            ...  \n13124     0           0     0              0              0  \n14223     0           0     0              0              0  \n11442     0           0     0              0              0  \n15319     0           0     0              0              0  \n18177     0           0     0              0              0  \n7941      0           0     0              0              0  \n22108     0           0     0              0              0  \n862       0           1     0              0              1  \n21785     0           0     0              0              0  \n12154     0           0     0              0              0  \n12208     0           0     0              0              0  \n10638     0           0     0              0              0  \n3438      0           0     0              0              1  \n24874     0           0     0              0              0  \n22076     0           0     0              0              0  \n12665     0           0     0              0              0  \n10462     0           0     0              0              0  \n16235     0           0     0              0              0  \n14437     0           0     0              0              0  \n3861      0           0     0              0              0  \n10992     0           0     0              0              0  \n15868     0           0     0              0              0  \n3701      0           0     0              0              1  \n22171     0           0     0              0              0  \n743       0           0     0              0              1  \n635       0           0     0              0              1  \n4864      0           0     0              0              0  \n2575      0           0     0              0              0  \n6621      0           0     0              0              0  \n2475      0           0     0              0              1  \n\n[6554 rows x 36 columns], array([[1, 0, 0, ..., 0, 0, 0],\n       [1, 0, 0, ..., 0, 0, 0],\n       [1, 0, 0, ..., 0, 0, 0],\n       ..., \n       [1, 0, 0, ..., 0, 0, 0],\n       [1, 0, 0, ..., 0, 0, 0],\n       [1, 0, 0, ..., 0, 0, 0]]))"
     ]
    }
   ],
   "source": [
    "print(classification_report(y_test, y_pred,target_names=y_test.keys()))"
   ]
  },
  {
   "cell_type": "markdown",
   "metadata": {},
   "source": [
    "### 6. Improve your model\n",
    "Use grid search to find better parameters. "
   ]
  },
  {
   "cell_type": "code",
   "execution_count": null,
   "metadata": {},
   "outputs": [],
   "source": [
    "parameters = \n",
    "\n",
    "cv = "
   ]
  },
  {
   "cell_type": "markdown",
   "metadata": {},
   "source": [
    "### 7. Test your model\n",
    "Show the accuracy, precision, and recall of the tuned model.  \n",
    "\n",
    "Since this project focuses on code quality, process, and  pipelines, there is no minimum performance metric needed to pass. However, make sure to fine tune your models for accuracy, precision and recall to make your project stand out - especially for your portfolio!"
   ]
  },
  {
   "cell_type": "code",
   "execution_count": null,
   "metadata": {},
   "outputs": [],
   "source": []
  },
  {
   "cell_type": "markdown",
   "metadata": {},
   "source": [
    "### 8. Try improving your model further. Here are a few ideas:\n",
    "* try other machine learning algorithms\n",
    "* add other features besides the TF-IDF"
   ]
  },
  {
   "cell_type": "code",
   "execution_count": null,
   "metadata": {},
   "outputs": [],
   "source": []
  },
  {
   "cell_type": "markdown",
   "metadata": {},
   "source": [
    "### 9. Export your model as a pickle file"
   ]
  },
  {
   "cell_type": "code",
   "execution_count": null,
   "metadata": {},
   "outputs": [],
   "source": []
  },
  {
   "cell_type": "markdown",
   "metadata": {},
   "source": [
    "### 10. Use this notebook to complete `train.py`\n",
    "Use the template file attached in the Resources folder to write a script that runs the steps above to create a database and export a model based on a new dataset specified by the user."
   ]
  },
  {
   "cell_type": "code",
   "execution_count": null,
   "metadata": {},
   "outputs": [],
   "source": []
  }
 ],
 "metadata": {
  "kernelspec": {
   "display_name": "Python 3",
   "language": "python",
   "name": "python3"
  },
  "language_info": {
   "codemirror_mode": {
    "name": "ipython",
    "version": 3
   },
   "file_extension": ".py",
   "mimetype": "text/x-python",
   "name": "python",
   "nbconvert_exporter": "python",
   "pygments_lexer": "ipython3",
   "version": "3.8.1"
  }
 },
 "nbformat": 4,
 "nbformat_minor": 2
}
